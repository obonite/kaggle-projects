{
 "cells": [
  {
   "cell_type": "code",
   "execution_count": 1,
   "id": "aefdb798-2e02-4bac-a0e0-de4be78a9945",
   "metadata": {},
   "outputs": [],
   "source": [
    "#import statements"
   ]
  },
  {
   "cell_type": "markdown",
   "id": "753da740-9ff7-40fe-a5df-4b6a1177e94a",
   "metadata": {},
   "source": [
    "# House Prices First Notebook\n",
    "Libraries go in the code cell above. First real code cell below."
   ]
  },
  {
   "cell_type": "code",
   "execution_count": 2,
   "id": "f272a7d3-c8a6-4717-945a-645b3dd322d0",
   "metadata": {},
   "outputs": [],
   "source": [
    "# first code"
   ]
  }
 ],
 "metadata": {
  "kernelspec": {
   "display_name": "Python 3 (ipykernel)",
   "language": "python",
   "name": "python3"
  },
  "language_info": {
   "codemirror_mode": {
    "name": "ipython",
    "version": 3
   },
   "file_extension": ".py",
   "mimetype": "text/x-python",
   "name": "python",
   "nbconvert_exporter": "python",
   "pygments_lexer": "ipython3",
   "version": "3.12.11"
  }
 },
 "nbformat": 4,
 "nbformat_minor": 5
}
